{
 "cells": [
  {
   "attachments": {},
   "cell_type": "markdown",
   "id": "78e342ae",
   "metadata": {},
   "source": [
    "# Extract diffrent and changing notes from audio\n",
    ">In the last tutorial we learned hot recognize the wave in an audio.<br>\n",
    "But what to do when the notes are changing?<br>\n",
    "<br>\n",
    "**This tutorial is about that topic.**"
   ]
  },
  {
   "cell_type": "code",
   "execution_count": 1,
   "id": "6dce73e5-7ec8-4feb-baad-048366b1ae46",
   "metadata": {},
   "outputs": [],
   "source": [
    "from AudioParamersExtraction import *"
   ]
  },
  {
   "cell_type": "code",
   "execution_count": 2,
   "id": "652585b2-32c7-42b5-bebc-5f7f4851dcec",
   "metadata": {},
   "outputs": [],
   "source": [
    "sound_array, sr = librosa.load('sounds/John Small.mp3')\n",
    "sound_array, _ = librosa.effects.trim(sound_array, top_db=10)"
   ]
  },
  {
   "attachments": {},
   "cell_type": "markdown",
   "id": "92633058-d05e-46e4-bf76-ecf4f006aa7a",
   "metadata": {},
   "source": [
    ">#### When next cell executed, your speaker will start to play the audio.<br>In order to stop - execute the next cell after it"
   ]
  },
  {
   "cell_type": "code",
   "execution_count": 3,
   "id": "d7255289-135b-446e-a546-558368981cbf",
   "metadata": {},
   "outputs": [
    {
     "data": {
      "image/png": "[encoded data removed]",
      "text/plain": [
       "<Figure size 432x288 with 1 Axes>"
      ]
     },
     "metadata": {
      "needs_background": "light"
     },
     "output_type": "display_data"
    }
   ],
   "source": [
    "plt.plot(sound_array)\n",
    "\n",
    "# Play the original audio\n",
    "sd.play(sound_array, sr)"
   ]
  },
  {
   "cell_type": "code",
   "execution_count": 4,
   "id": "44ffc0e3-2e91-49bc-87af-0af07a5c7e40",
   "metadata": {},
   "outputs": [],
   "source": [
    "sd.stop()"
   ]
  },
  {
   "attachments": {},
   "cell_type": "markdown",
   "id": "726c9fba",
   "metadata": {},
   "source": [
    "## The strategy - moving window\n",
    ">1. We will split the audio into short segments (window), and analyze each one separately.\n",
    ">2. Then, we'll extend all the predicted short segments into one audio array"
   ]
  },
  {
   "cell_type": "code",
   "execution_count": 5,
   "id": "e7e1134b-26a1-4ac6-a3a5-ebf9a369f212",
   "metadata": {},
   "outputs": [],
   "source": [
    "# Length of a sample\n",
    "N = 1_000\n",
    "# Starting point of this example\n",
    "start = 0\n",
    "# The duration of this sample in seconds\n",
    "DURATION = N/sr"
   ]
  },
  {
   "cell_type": "code",
   "execution_count": 6,
   "id": "ca414ea7-7b5a-41c5-b921-e32682aeeac6",
   "metadata": {
    "collapsed": true,
    "jupyter": {
     "outputs_hidden": true
    },
    "tags": []
   },
   "outputs": [
    {
     "name": "stderr",
     "output_type": "stream",
     "text": [
      "c:\\Users\\97250\\anaconda3\\lib\\site-packages\\scipy\\optimize\\minpack.py:828: OptimizeWarning: Covariance of the parameters could not be estimated\n",
      "  warnings.warn('Covariance of the parameters could not be estimated',\n"
     ]
    }
   ],
   "source": [
    "sounds = []\n",
    "freqs = []\n",
    "mags = []\n",
    "for i in range(0, sound_array.shape[0]-N, N):\n",
    "    window = sound_array[i:i+N]\n",
    "    sound_array_pred, predicted_freqs, predicted_mag = predict_wave_freqs_magnitudes(window, sr, DURATION, N)\n",
    "    \n",
    "    sounds.append(sound_array_pred)\n",
    "    freqs.append(predicted_freqs)\n",
    "    mags.append(predicted_mag)"
   ]
  },
  {
   "cell_type": "code",
   "execution_count": 7,
   "id": "41022042-0fb6-4353-90c2-71d7b3334972",
   "metadata": {},
   "outputs": [],
   "source": [
    "sounds_append = np.array([])\n",
    "for s in sounds:\n",
    "    sounds_append = np.append(sounds_append, s)"
   ]
  },
  {
   "attachments": {},
   "cell_type": "markdown",
   "id": "9d6e1403",
   "metadata": {},
   "source": [
    "Let's hear the result:"
   ]
  },
  {
   "cell_type": "code",
   "execution_count": 8,
   "id": "aab362ac-af35-40e2-beee-3be9613d43e8",
   "metadata": {},
   "outputs": [],
   "source": [
    "sd.play(sounds_append, sr)"
   ]
  },
  {
   "cell_type": "code",
   "execution_count": 9,
   "id": "abeb0dac-c8c6-48b3-a71d-cd73487293f9",
   "metadata": {},
   "outputs": [],
   "source": [
    "sd.stop()"
   ]
  },
  {
   "attachments": {},
   "cell_type": "markdown",
   "id": "51780955",
   "metadata": {},
   "source": [
    ">Well, it sounds ok... but needs improvement.<br>\n",
    "Let's check out the predicted notes."
   ]
  },
  {
   "cell_type": "code",
   "execution_count": 10,
   "id": "37a4fc48-baa5-4793-b1eb-37b2ece39d1a",
   "metadata": {
    "tags": []
   },
   "outputs": [
    {
     "name": "stdout",
     "output_type": "stream",
     "text": [
      "C8\tG5\tD7\tG5\tB6\tE6\tB6\tE5\tC8\tE6\tC8\tB6\tE6\tF5\tF6\tF5\tE6\tB4\tE6\tB4\tE5\tC8\tA6\tD6\tD5\tD6\tA6\tD5\tC5\tD5\tC8\tD5\tB4\tD5\tC5\tC8\tC7\tC5\tB4\tC8\tD5\tD6\tD5\tA4\tC8\tE6\tB6\tE5\tB6\tE6\tC8\tF5\tF6\tF5\tE5\tB6\tE5\tA4\tG5\tD7\tG5\tB7\tG5\tG7\tG5\tC8\tG5\tD#5\tG5\tB4\tD#5\tC8\tG5\tB7\tD7\tG5\tC8\tE6\tB7\tB6\tE5\tC8\tE6\tB6\tE6\tE5\tE6\tC8\tF5\tF6\tF5\tA7\tE5\tC8\tD5\tD6\tD5\tA#6\tD5\tB4\tC5\tC7\tB4\tC5\tB4\tG6\tF7\tC8\tE6\tB6\tE5\tG5\tE5\tC8\tG5\tB7\tD7\tG5\tC5\tB4\tC5\tG6\tC6\tA4\tD#5\tG4\tA4\tD#5\tG4\tD#5\tG4\tA3\tA4\tD#5\tD5\tC8\tD5\tA6\tD5\tD#5\tC7\tD5\tD6\tD5\tB4\tC8\tD5\tC5\tD5\tC8\tD5\tA6\tB4\tE7\tC8\tE6\tB6\tE5\tC8\tF5\tE5\tC5\tC8\tE6\tB6\tE5\tC8\tB6\tB7\tE5\tB6\tC8\tE6\tB6\tE5\tB6\tC8\tE6\tB6\tB7\tB6\tE5\tB6\tC8\tE6\tB6\tE5\tC8\tF5\tF6\tF5\tE5\tE6\tC8\tG5\tC8\tB7\tC8\tD7\tB7\tG5\tD#5\tG5\tD#5\tC8\tG5\tC8\tD7\tG5\tD7\tC8\tG5\tC8\tE6\tB6\tE5\tB6\tC8\tB6\tE6\tC8\tF5\tC7\tE5\tE6\tE5\tE6\tE5\tC5\tD5\tD#5\tD5\tD#5\tD5\tA4\tD#5\tA4\tC5\tC7\tB4\tC5\tB4\tC8\tE6\tC8\tB6\tE5\tC8\tG5\tE5\tC8\tG5\tB7\tG5\tC5\t"
     ]
    }
   ],
   "source": [
    "last_note = ''\n",
    "for f, m in zip(freqs, mags):\n",
    "    mx = m.max()\n",
    "    max_mag_index = np.where(m == mx)[0][0]\n",
    "    current_pred_note = get_note_of_freq(f[max_mag_index])\n",
    "    if last_note != current_pred_note:\n",
    "        print(current_pred_note, end='\\t')\n",
    "        last_note = current_pred_note"
   ]
  },
  {
   "attachments": {},
   "cell_type": "markdown",
   "id": "cadc8829",
   "metadata": {},
   "source": [
    ">It seems that the frequency with the largest amplitude is not the right way to choose the current note.<br>\n",
    "I'll go back to it later.\n",
    "<!---->\n",
    "#### The next improvment:<br>\n",
    "1. predict the frequencies of the segment from the center of the last window to the center of the next one.\n",
    "2. This will be like \"glue\".<br>\n",
    "<!---->\n",
    "This will help in solving the problem of breaking the wave continuity of different segments."
   ]
  },
  {
   "cell_type": "code",
   "execution_count": 11,
   "id": "d7df71fc",
   "metadata": {},
   "outputs": [],
   "source": [
    "sounds = []\n",
    "for i in range(int(N/2), sound_array.shape[0]-int(N*1.5), N):\n",
    "    window = sound_array[i:i+N]\n",
    "    sound_array_pred, predicted_freqs, predicted_mag = predict_wave_freqs_magnitudes(window, sr, DURATION, N)\n",
    "    \n",
    "    sounds.append(sound_array_pred)"
   ]
  },
  {
   "cell_type": "code",
   "execution_count": 12,
   "id": "e19ab8bb",
   "metadata": {},
   "outputs": [],
   "source": [
    "sounds_append2 = np.array([])\n",
    "for s in sounds:\n",
    "    sounds_append2 = np.append(sounds_append2, s)"
   ]
  },
  {
   "attachments": {},
   "cell_type": "markdown",
   "id": "3e56c927",
   "metadata": {},
   "source": [
    "##### Since `sounds_append2` is shorter then `sounds_append` in `N`,<br>we'll add zeros before and after it to their shapes will match"
   ]
  },
  {
   "cell_type": "code",
   "execution_count": 13,
   "id": "58d097ee",
   "metadata": {},
   "outputs": [],
   "source": [
    "half_N_zeros = np.zeros((int(N/2),))\n",
    "sounds_append2 = np.append(half_N_zeros, sounds_append2)\n",
    "sounds_append2 = np.append(sounds_append2, half_N_zeros)\n",
    "\n",
    "sounds_append = sounds_append + sounds_append2"
   ]
  },
  {
   "cell_type": "markdown",
   "id": "f7f17bfa",
   "metadata": {},
   "source": [
    "Let's hear the result:"
   ]
  },
  {
   "cell_type": "code",
   "execution_count": 14,
   "id": "12ddfa43",
   "metadata": {},
   "outputs": [],
   "source": [
    "sd.play(sounds_append, sr)"
   ]
  },
  {
   "cell_type": "code",
   "execution_count": 15,
   "id": "6b199d52",
   "metadata": {},
   "outputs": [],
   "source": [
    "sd.stop()"
   ]
  },
  {
   "attachments": {},
   "cell_type": "markdown",
   "id": "9855d16b",
   "metadata": {},
   "source": [
    ">#### This sounds match better!<br>I will use this in order to improve the notes prediction."
   ]
  },
  {
   "attachments": {},
   "cell_type": "markdown",
   "id": "1321ef74",
   "metadata": {},
   "source": [
    "># NOTE: **This project is still under construction**!"
   ]
  }
 ],
 "metadata": {
  "kernelspec": {
   "display_name": "Python 3 (ipykernel)",
   "language": "python",
   "name": "python3"
  },
  "language_info": {
   "codemirror_mode": {
    "name": "ipython",
    "version": 3
   },
   "file_extension": ".py",
   "mimetype": "text/x-python",
   "name": "python",
   "nbconvert_exporter": "python",
   "pygments_lexer": "ipython3",
   "version": "3.8.8"
  }
 },
 "nbformat": 4,
 "nbformat_minor": 5
}
